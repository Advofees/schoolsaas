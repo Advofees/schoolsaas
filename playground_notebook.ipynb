{
 "cells": [
  {
   "cell_type": "code",
   "execution_count": null,
   "metadata": {},
   "outputs": [],
   "source": [
    "%load_ext autoreload\n",
    "%autoreload 2\n",
    "\n",
    "\n",
    "# from backend.database.all_models import get_all_models\n",
    "import pandas as pd\n",
    "# get_all_models()\n",
    "from backend.models import Classroom, Student, Exam, ExamResult,Module\n",
    "from backend.database.database import get_db\n",
    "import uuid\n"
   ]
  },
  {
   "cell_type": "code",
   "execution_count": null,
   "metadata": {},
   "outputs": [],
   "source": [
    "\n",
    "db = get_db()\n",
    "\n",
    "def get_overall_results(classroom_id: uuid.UUID):\n",
    "    results = (\n",
    "        db.query(\n",
    "            Classroom.name.label('classroom_name'),\n",
    "            Student.name.label('student_name'),\n",
    "            Module.name.label('module_name'),\n",
    "            Exam.name.label('exam_name'),\n",
    "            ExamResult.marks_obtained,\n",
    "            Exam.total_marks,\n",
    "            (ExamResult.marks_obtained / Exam.total_marks * 100).label('percentage')\n",
    "        )\n",
    "        .join(Student, Student.classroom_id == Classroom.id)\n",
    "        .join(ExamResult, ExamResult.student_id == Student.id)\n",
    "        .join(Exam, Exam.id == ExamResult.exam_id)\n",
    "        .join(Module, Module.id == Exam.module_id)\n",
    "        .filter(Classroom.id == classroom_id)\n",
    "        .all()\n",
    "    )\n",
    "    \n",
    "    return results\n",
    "\n",
    "\n",
    "# Example usage\n",
    "results = get_overall_results(uuid.UUID(\"96f5ee77-9bf3-47e4-a936-b15d741b53eb\"))\n",
    "\n",
    "# Convert results to a pandas DataFrame\n",
    "df = pd.DataFrame(results, columns=['classroom_name', 'student_name', 'module_name', 'exam_name', 'marks_obtained', 'total_marks', 'percentage'])\n",
    "\n",
    "# Pivot the DataFrame to get the desired format\n",
    "df_pivot = df.pivot_table(index='student_name', columns='module_name', values='marks_obtained', aggfunc='sum').fillna(0)\n",
    "\n",
    "# Calculate total marks and percentage for each student\n",
    "df_pivot['TOTAL_MARKS'] = df_pivot.sum(axis=1)\n",
    "df_pivot['PERCENTAGE'] = (df_pivot['TOTAL_MARKS'] / (df['total_marks'].max() * len(df_pivot.columns))) * 100\n",
    "df_pivot['MEAN'] = df_pivot.mean(axis=1)\n",
    "\n",
    "# Reset the index to make 'student_name' a column\n",
    "df_pivot.reset_index(inplace=True)\n",
    "\n",
    "# Sort by percentage in descending order\n",
    "df_sorted = df_pivot.sort_values(by='PERCENTAGE', ascending=False)\n",
    "\n",
    "print(df_sorted)"
   ]
  }
 ],
 "metadata": {
  "kernelspec": {
   "display_name": "venv",
   "language": "python",
   "name": "python3"
  },
  "language_info": {
   "codemirror_mode": {
    "name": "ipython",
    "version": 3
   },
   "file_extension": ".py",
   "mimetype": "text/x-python",
   "name": "python",
   "nbconvert_exporter": "python",
   "pygments_lexer": "ipython3",
   "version": "3.12.3"
  }
 },
 "nbformat": 4,
 "nbformat_minor": 2
}
