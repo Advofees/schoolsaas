{
 "cells": [
  {
   "cell_type": "code",
   "execution_count": 1,
   "metadata": {},
   "outputs": [],
   "source": [
    "%load_ext autoreload\n",
    "%autoreload 2\n",
    "\n",
    "\n",
    "# from backend.database.all_models import get_all_models\n",
    "import pandas as pd\n",
    "# get_all_models()\n",
    "from backend.models import Classroom, Student, Exam, ExamResult,Module\n",
    "from backend.database.database import get_db\n",
    "import uuid\n"
   ]
  },
  {
   "cell_type": "code",
   "execution_count": 2,
   "metadata": {},
   "outputs": [
    {
     "name": "stdout",
     "output_type": "stream",
     "text": [
      "module_name     student_name Module 1 Module 2 Module 3 Module 4 Module 5  \\\n",
      "4            Victoria Lawson       99       41       92       59       81   \n",
      "1               Holly Bryant       83       95       92       67       61   \n",
      "0               Daniel Moore       89       95       59       80       50   \n",
      "2              Justin Mosley       59       87       47       98       43   \n",
      "3            Shelley Goodman       81       72       43       59       93   \n",
      "\n",
      "module_name Module 6 Module 7 TOTAL_MARKS PERCENTAGE        MEAN  \n",
      "4                 99      100         571   71.37500  134.819444  \n",
      "1                 67       84         549   68.62500     129.625  \n",
      "0                 65       53         491   61.37500  115.930556  \n",
      "2                 61       89         484     60.500  114.277778  \n",
      "3                 50       56         454    56.7500  107.194444  \n"
     ]
    }
   ],
   "source": [
    "\n",
    "db = get_db()\n",
    "\n",
    "def get_overall_results(classroom_id: uuid.UUID):\n",
    "    results = (\n",
    "        db.query(\n",
    "            Classroom,\n",
    "            Student,\n",
    "            Module,\n",
    "            Exam,\n",
    "            ExamResult,\n",
    "        )\n",
    "        .join(Student)\n",
    "        .join(ExamResult)\n",
    "        .join(Exam)\n",
    "        .join(Module)\n",
    "        .filter(Classroom.id == classroom_id)\n",
    "        .all()\n",
    "    )\n",
    "    \n",
    "    return results\n",
    "\n",
    "\n",
    "# Example usage\n",
    "results = get_overall_results(uuid.UUID(\"fbb90108-5c1b-4a4f-9a5c-153b8f472916\"))\n",
    "\n",
    "# Convert results to a pandas DataFrame\n",
    "df = pd.DataFrame(results, columns=['classroom_name', 'student_name', 'module_name', 'exam_name', 'marks_obtained', 'total_marks', 'percentage'])\n",
    "\n",
    "# Pivot the DataFrame to get the desired format\n",
    "df_pivot = df.pivot_table(index='student_name', columns='module_name', values='marks_obtained', aggfunc='sum').fillna(0)\n",
    "\n",
    "# Calculate total marks and percentage for each student\n",
    "df_pivot['TOTAL_MARKS'] = df_pivot.sum(axis=1)\n",
    "df_pivot['PERCENTAGE'] = (df_pivot['TOTAL_MARKS'] / (df['total_marks'].max() * len(df_pivot.columns))) * 100\n",
    "df_pivot['MEAN'] = df_pivot.mean(axis=1)\n",
    "\n",
    "# Reset the index to make 'student_name' a column\n",
    "df_pivot.reset_index(inplace=True)\n",
    "\n",
    "# Sort by percentage in descending order\n",
    "df_sorted = df_pivot.sort_values(by='PERCENTAGE', ascending=False)\n",
    "\n",
    "print(df_sorted)"
   ]
  }
 ],
 "metadata": {
  "kernelspec": {
   "display_name": "venv",
   "language": "python",
   "name": "python3"
  },
  "language_info": {
   "codemirror_mode": {
    "name": "ipython",
    "version": 3
   },
   "file_extension": ".py",
   "mimetype": "text/x-python",
   "name": "python",
   "nbconvert_exporter": "python",
   "pygments_lexer": "ipython3",
   "version": "3.12.3"
  }
 },
 "nbformat": 4,
 "nbformat_minor": 2
}
